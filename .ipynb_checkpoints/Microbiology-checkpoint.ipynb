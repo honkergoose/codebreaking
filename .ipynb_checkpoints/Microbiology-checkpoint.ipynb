{
 "cells": [
  {
   "cell_type": "markdown",
   "id": "6f0ad498-b912-4a25-a09f-680ca8100f69",
   "metadata": {
    "tags": []
   },
   "source": [
    "# Microbiology learning book\n",
    "\n",
    "#### Key Terms\n",
    "<u>cell</u>: The building block of lyfe<br>\n",
    "<u>nucleus</u>: Central hub of a eukaryotic cell. Houses DNA for RNA transcription. 1 cell 1 nucleus is generally true but depends on complexity (red blood cells don't have a nucleus becuase their function is simple and doesn't require it<br>\n",
    "<u>eukarot</u>: The more \"complex\" cells. The building blocks for complex organism like mammals. Contrast to unicellular organisms like Archaea and Bacteria<br>\n",
    "<u>archaea</u>: A collection of uniceullar, organelle-free organisms. Extremophiles are often archaea like those funny things that live in volcanoes, etc. Less is known about archaea. Some archaea like [Haloarchaea](https://en.wikipedia.org/wiki/Haloarchaea) have even been found in the [human gut](https://microbiomejournal.biomedcentral.com/articles/10.1186/s40168-020-00894-x#:~:text=Archaea%20are%20one%20of%20the,other%20archaeal%20phylotypes%20is%20available.).<br>\n",
    "<u>bacteria/prokaryote</u>: No membrane enclosed organelles. Binary fission is much simpler than mitosis. (How does the difference in cellular structure contribute to the different strategies for defending against pathogens?).\n",
    "<u>chromatin</u>: Generic word for nucleic acid junk (i.e. DNA) and protiens in a eukaryotic nucleus. Chromatin gathers into chromosomes before and during cell division.<br>\n",
    "<u>chromosome</u>: Chromosome is a condensation of chromatin that appeaqrs in advance of an during cell division. (So what the hell is an XY chromsome etc in mammals/humans?)<br>\n",
    "<u>polymers</u>: Nucleic acids are polymers. Polymers are repeating chains of similar strucutre molecules known as monomers.\n",
    "\n",
    "\n",
    "\n",
    "### Other thoughts\n",
    "Lots of terms; should probably do some [useful memory things](https://www.gwern.net/Spaced-repetition)\n",
    "\n",
    "\n"
   ]
  },
  {
   "cell_type": "code",
   "execution_count": null,
   "id": "bdfbbecb-6345-433c-b18a-d7cb390a48e2",
   "metadata": {},
   "outputs": [],
   "source": []
  }
 ],
 "metadata": {
  "kernelspec": {
   "display_name": "Python 3 (ipykernel)",
   "language": "python",
   "name": "python3"
  },
  "language_info": {
   "codemirror_mode": {
    "name": "ipython",
    "version": 3
   },
   "file_extension": ".py",
   "mimetype": "text/x-python",
   "name": "python",
   "nbconvert_exporter": "python",
   "pygments_lexer": "ipython3",
   "version": "3.8.9"
  }
 },
 "nbformat": 4,
 "nbformat_minor": 5
}
